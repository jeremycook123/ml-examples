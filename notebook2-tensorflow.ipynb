{
 "cells": [
  {
   "cell_type": "code",
   "execution_count": null,
   "id": "8d32d128-1e06-40f3-af7a-7387cb86ae25",
   "metadata": {},
   "outputs": [],
   "source": [
    "import os\n",
    "#os.environ[\"CUDA_DEVICE_ORDER\"]=\"PCI_BUS_ID\" #If the line below doesn't work, uncomment this line (make sure to comment the line below); it should help.\n",
    "os.environ['CUDA_VISIBLE_DEVICES'] = '-1'"
   ]
  },
  {
   "cell_type": "code",
   "execution_count": null,
   "id": "bc10e8c0-96f4-43e1-8a75-2ffd0934d1e4",
   "metadata": {},
   "outputs": [],
   "source": [
    "import tensorflow as tf\n",
    "from tensorflow import keras\n",
    "import pandas as pd\n",
    "import numpy as np\n",
    "import matplotlib.pyplot as plt\n",
    "\n",
    "tf.__version__"
   ]
  },
  {
   "cell_type": "code",
   "execution_count": null,
   "id": "34a28ddc-e0dc-42c3-b992-95f7a4e456ea",
   "metadata": {},
   "outputs": [],
   "source": [
    "tf.config.list_physical_devices()"
   ]
  },
  {
   "cell_type": "code",
   "execution_count": null,
   "id": "b23e6794-7b3e-45e8-ba89-0fa13fa2995c",
   "metadata": {},
   "outputs": [],
   "source": [
    "dataset_path = os.path.join(os.getcwd(), './', 'seeds.txt')\n",
    "\n",
    "df = pd.read_csv(dataset_path, \n",
    "                lineterminator='\\n', \n",
    "                sep='\\t+|\\t\\t',\n",
    "                engine='python', \n",
    "                header=None,\n",
    "                names=['area', 'perimeter', 'compactness', 'length of kernel', 'width of kernel', 'asymmetry coefficient', 'length of kernel groove', 'class']\n",
    "            )\n",
    "\n",
    "df.info()"
   ]
  },
  {
   "cell_type": "code",
   "execution_count": null,
   "id": "6a906a08-6e55-420d-b0c2-2b3c40361fbb",
   "metadata": {},
   "outputs": [],
   "source": [
    "df.head()"
   ]
  },
  {
   "cell_type": "code",
   "execution_count": null,
   "id": "3ace6099-4af1-4304-843b-6786e67bb11b",
   "metadata": {},
   "outputs": [],
   "source": [
    "df['class'].unique()"
   ]
  },
  {
   "cell_type": "code",
   "execution_count": null,
   "id": "cc55551c-6412-4480-a136-d21e529c5b4c",
   "metadata": {},
   "outputs": [],
   "source": [
    "fig, ax = plt.subplots(figsize=(24, 16), nrows=3, ncols=7)\n",
    "\n",
    "cnt = 0\n",
    "for i in range(7):\n",
    "    for j in range(i + 1, 7):\n",
    "        curr_ax = ax[cnt // 7, cnt % 7]\n",
    "        curr_ax.scatter(df[df.columns[i]], df[df.columns[j]], c=df['class'], cmap='viridis', s=30)\n",
    "        curr_ax.set_xlabel(df.columns[i])\n",
    "        curr_ax.set_ylabel(df.columns[j])\n",
    "        cnt += 1\n",
    "\n",
    "fig.tight_layout()"
   ]
  },
  {
   "cell_type": "code",
   "execution_count": null,
   "id": "c29c0bf2-c012-41f1-b9b1-59172dc404a1",
   "metadata": {},
   "outputs": [],
   "source": [
    "for column in df.columns:\n",
    "    df[column] = (df[column] - df[column].mean()) / df[column].std()"
   ]
  },
  {
   "cell_type": "code",
   "execution_count": null,
   "id": "ea5f5125-f0d8-494f-bbaf-97ea6bbc251e",
   "metadata": {},
   "outputs": [],
   "source": [
    "df"
   ]
  },
  {
   "cell_type": "code",
   "execution_count": null,
   "id": "e0e1d942-e511-401f-9c01-362502a3b6ad",
   "metadata": {},
   "outputs": [],
   "source": [
    "model = keras.Sequential([\n",
    "    keras.Input(shape=(7,)),\n",
    "    keras.layers.Flatten(),\n",
    "    keras.layers.Dense(10, activation='relu'),\n",
    "    keras.layers.Dense(32, activation='relu'),\n",
    "    keras.layers.Dense(3, activation='sigmoid')\n",
    "    ])"
   ]
  },
  {
   "cell_type": "code",
   "execution_count": null,
   "id": "722b250c-4542-4ca9-98b6-353d56cb7bac",
   "metadata": {},
   "outputs": [],
   "source": [
    "model.summary()"
   ]
  },
  {
   "cell_type": "code",
   "execution_count": null,
   "id": "822bc45b-0cff-4097-a8ae-3bf2d2e9f0f6",
   "metadata": {},
   "outputs": [],
   "source": [
    "keras.utils.plot_model(model, show_shapes=True)"
   ]
  },
  {
   "cell_type": "code",
   "execution_count": null,
   "id": "d8e517ee-aa55-491b-a176-fd6817e2169c",
   "metadata": {},
   "outputs": [],
   "source": [
    "from gc import callbacks\n",
    "\n",
    "compile_model = model.compile(optimizer='adam',\n",
    "                              loss='mse',\n",
    "                              metrics=['accuracy'])"
   ]
  },
  {
   "cell_type": "code",
   "execution_count": null,
   "id": "1c695a25-e3f1-4956-88c5-8995d466e6d0",
   "metadata": {},
   "outputs": [],
   "source": [
    "labels = (df['class'] - 1).to_numpy().reshape(-1, 1)\n",
    "\n",
    "model.fit(df.drop('class', axis=1), \n",
    "          tf.one_hot(labels, 3),\n",
    "          epochs=1000,\n",
    "          callbacks=[keras.callbacks.EarlyStopping(monitor='loss', patience=5)],\n",
    "          validation_split=0.2)\n",
    "\n",
    "# model.fit(df.drop('class', axis=1), \n",
    "#           tf.one_hot(labels, 3),\n",
    "#           epochs=1000,\n",
    "#           validation_split=0.2)"
   ]
  },
  {
   "cell_type": "code",
   "execution_count": null,
   "id": "b62efa9c-b987-4ab4-aac2-41c89effdd75",
   "metadata": {},
   "outputs": [],
   "source": [
    "categorical_labels = keras.utils.to_categorical(df['class'], num_classes=3)\n",
    "\n",
    "model2 = keras.models.clone_model(model)\n",
    "\n",
    "model2.compile(optimizer='adam',\n",
    "               loss='mse',\n",
    "               metrics=['accuracy'])\n",
    "\n",
    "model2.fit(df.drop('class', axis=1), \n",
    "           categorical_labels,\n",
    "           epochs=1000,\n",
    "           callbacks=[keras.callbacks.EarlyStopping(monitor='val_loss', patience=5)],\n",
    "           validation_split=0.2)"
   ]
  },
  {
   "cell_type": "code",
   "execution_count": null,
   "id": "7a0e583f-a638-4ac7-baec-e0cda907da9e",
   "metadata": {},
   "outputs": [],
   "source": [
    "model_tensorboard = keras.models.clone_model(model)\n",
    "\n",
    "model_tensorboard.compile(optimizer='adam',\n",
    "               loss='mse',\n",
    "               metrics=['accuracy'])\n",
    "\n",
    "model_tensorboard.fit(df.drop('class', axis=1), \n",
    "           tf.one_hot(labels, 3),\n",
    "           epochs=1000,\n",
    "           callbacks=[keras.callbacks.EarlyStopping(monitor='val_loss', patience=5),\n",
    "                      keras.callbacks.ModelCheckpoint(filepath='models/model_tensorboard.keras', save_best_only=True),\n",
    "                      keras.callbacks.TensorBoard(log_dir='logs')],\n",
    "           validation_split=0.2)"
   ]
  },
  {
   "cell_type": "markdown",
   "id": "f5efd501-1111-41e5-9f71-0422d7c91b67",
   "metadata": {},
   "source": [
    "Run the following command in a seperate Anaconda Prompt terminal:\n",
    "```\n",
    "tensorboard --logdir C:\\WGU\\Courses\\ml-examples\\logs --bind_all\n",
    "```"
   ]
  },
  {
   "cell_type": "code",
   "execution_count": null,
   "id": "a1f6847f-4dd1-4a7d-9dba-d03e72ed7751",
   "metadata": {},
   "outputs": [],
   "source": [
    "non_overfitting_model = keras.Sequential([\n",
    "    keras.Input(shape=(7,)),\n",
    "    keras.layers.Flatten(),\n",
    "    keras.layers.Dense(10, activation='relu'),\n",
    "    keras.layers.Dense(5, activation='relu'),\n",
    "    keras.layers.Dense(3, activation='sigmoid')\n",
    "])"
   ]
  },
  {
   "cell_type": "code",
   "execution_count": null,
   "id": "9ff3c2cd-ff95-4832-95ba-644b970ff351",
   "metadata": {},
   "outputs": [],
   "source": [
    "non_overfitting_model.summary()"
   ]
  },
  {
   "cell_type": "code",
   "execution_count": null,
   "id": "f368deb1-6fac-4603-a39f-e60f60cd8961",
   "metadata": {},
   "outputs": [],
   "source": [
    "non_overfitting_model.compile(optimizer='adam',\n",
    "                              loss='mse',\n",
    "                              metrics=['accuracy'])\n",
    "\n",
    "non_overfitting_model.fit(df.drop('class', axis=1),\n",
    "                          tf.one_hot(labels, 3),\n",
    "                          epochs=100,\n",
    "                          validation_split=0.2,\n",
    "                          callbacks=[keras.callbacks.EarlyStopping(monitor='loss', patience=5),\n",
    "                                     keras.callbacks.ModelCheckpoint(filepath='models/model_non_overfitting.keras', save_best_only=True),\n",
    "                                     keras.callbacks.TensorBoard(log_dir='logs')]\n",
    "                          )"
   ]
  },
  {
   "cell_type": "code",
   "execution_count": null,
   "id": "b8d8e1b1-625a-4692-8ff8-5eaac730061d",
   "metadata": {},
   "outputs": [],
   "source": [
    "model = tf.keras.models.load_model('./models/model_non_overfitting.keras')"
   ]
  },
  {
   "cell_type": "code",
   "execution_count": null,
   "id": "00074691-ce54-41f7-b727-eb7e3a03834e",
   "metadata": {},
   "outputs": [],
   "source": [
    "batch_input_data = np.array([\n",
    "    [11.02, 13.0, 0.8189, 5.325, 2.701, 6.735, 5.163],\n",
    "    [12.01, 14.0, 0.9189, 2.425, 2.801, 6.835, 15.263],\n",
    "    [11.02, 13, 0.8189, 5.325, 2.701, 1.735, 1.163],\n",
    "    # Add more samples as needed\n",
    "])\n",
    "\n",
    "# Perform inference\n",
    "batch_predictions = model.predict(batch_input_data)\n",
    "\n",
    "# Print the batch predictions\n",
    "print(batch_predictions)\n",
    "\n",
    "# Get the predicted classes for the batch\n",
    "batch_predicted_classes = np.argmax(batch_predictions, axis=1)\n",
    "print(f\"Predicted classes: {batch_predicted_classes + 1}\")  # Adding 1 to match the original class labels (1, 2, 3)"
   ]
  }
 ],
 "metadata": {
  "kernelspec": {
   "display_name": "Python 3 (ipykernel)",
   "language": "python",
   "name": "python3"
  },
  "language_info": {
   "codemirror_mode": {
    "name": "ipython",
    "version": 3
   },
   "file_extension": ".py",
   "mimetype": "text/x-python",
   "name": "python",
   "nbconvert_exporter": "python",
   "pygments_lexer": "ipython3",
   "version": "3.11.7"
  }
 },
 "nbformat": 4,
 "nbformat_minor": 5
}
